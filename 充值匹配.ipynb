{
 "cells": [
  {
   "cell_type": "code",
   "execution_count": 2,
   "id": "4c61dc47",
   "metadata": {},
   "outputs": [],
   "source": [
    "import os\n",
    "import re\n",
    "from tqdm import tqdm\n",
    "import csv\n",
    "import pandas as pd\n",
    "pipei=pd.read_excel(r\"D:\\项目\\重庆荣昌\\资金整理\\匹配收款卡验证.xlsx\",dtype={'交易对手账卡号':str})"
   ]
  },
  {
   "cell_type": "code",
   "execution_count": 3,
   "id": "66acb92b",
   "metadata": {},
   "outputs": [],
   "source": [
    "sk_ls=pd.read_excel(r\"D:\\项目\\重庆荣昌\\资金整理\\赌客\\大额赌客充值流水.xlsx\",sheet_name=\"Sheet1\",dtype={'卡号':str,'交易对手账卡号':str})"
   ]
  },
  {
   "cell_type": "code",
   "execution_count": 6,
   "id": "af40aaab",
   "metadata": {},
   "outputs": [],
   "source": [
    "#sk_ls.dtypes"
   ]
  },
  {
   "cell_type": "code",
   "execution_count": 19,
   "id": "7e7d64b6",
   "metadata": {},
   "outputs": [],
   "source": [
    "import pandas as pd\n",
    "\n",
    "# Read table 1 into a pandas dataframe\n",
    "df1 = pd.read_excel(r\"D:\\项目\\重庆荣昌\\资金整理\\匹配表.xlsx\",sheet_name=\"Sheet5\")\n",
    "\n",
    "# Read table 2 into a pandas dataframe\n",
    "df2 = pd.read_excel(r\"D:\\项目\\重庆荣昌\\资金整理\\匹配表.xlsx\",sheet_name=\"Sheet3\",dtype={'卡号':str,'交易对手账卡号':str})\n",
    "\n"
   ]
  },
  {
   "cell_type": "code",
   "execution_count": 26,
   "id": "35a34454",
   "metadata": {},
   "outputs": [],
   "source": [
    "# Merge the two dataframes based on the common columns\n",
    "merged_df = pd.merge(df1, df2,left_on=['会员账号', '金额'], right_on=['卡账号','交易金额'], how='outer')\n",
    "\n",
    "# Define a custom function to check if the transaction time and initiation time are within 3 minutes of each other\n",
    "def check_time(row):\n",
    "    transaction_time = pd.to_datetime(row['交易时间'])\n",
    "    initiation_time = pd.to_datetime(row['发起时间'])\n",
    "    time_diff = (transaction_time - initiation_time).total_seconds() / 60\n",
    "    if abs(time_diff) <= 3:\n",
    "        return '匹配'\n",
    "    else:\n",
    "        return '未匹配'\n",
    "\n",
    "# Apply the custom function to each row of the merged dataframe and add a new column\n",
    "merged_df['标签'] = merged_df.apply(check_time, axis=1)\n",
    "#merged_df.iloc[:,:]=merged_df.iloc[:,:].astype(\"string\")\n",
    "merged_df['交易对手账卡号']=merged_df['交易对手账卡号'].astype(str)\n",
    "merged_df['卡号']=merged_df['卡号'].astype(str)\n",
    "\n",
    "# Write the updated dataframe to a new CSV file\n",
    "merged_df.to_excel(r\"D:\\项目\\重庆荣昌\\资金整理\\111.xlsx\", index=False)"
   ]
  },
  {
   "cell_type": "code",
   "execution_count": 29,
   "id": "451e3320",
   "metadata": {},
   "outputs": [],
   "source": [
    "import pandas as pd\n",
    "\n",
    "# Read table 1 into a pandas dataframe\n",
    "df1 = pd.read_excel(r\"D:\\项目\\重庆荣昌\\资金整理\\匹配表.xlsx\",sheet_name=\"Sheet9\")\n",
    "\n",
    "# Read table 2 into a pandas dataframe\n",
    "df2 = pd.read_excel(r\"D:\\项目\\重庆荣昌\\资金整理\\匹配表.xlsx\",sheet_name=\"Sheet8\",dtype={'卡号':str,'交易对手账卡号':str})\n",
    "merged_df = pd.merge(df1, df2,left_on=['会员账号', '金额'], right_on=['卡账号','交易金额'], how='outer')\n",
    "\n",
    "# Define a custom function to check if the transaction time and initiation time are within 3 minutes of each other\n",
    "def check_time(row):\n",
    "    transaction_time = pd.to_datetime(row['交易时间'])\n",
    "    initiation_time = pd.to_datetime(row['发起时间'])\n",
    "    time_diff = (transaction_time - initiation_time).total_seconds() / 60\n",
    "    if abs(time_diff) <= 3:\n",
    "        return '匹配'\n",
    "    else:\n",
    "        return '未匹配'\n",
    "\n",
    "# Apply the custom function to each row of the merged dataframe and add a new column\n",
    "merged_df['标签'] = merged_df.apply(check_time, axis=1)\n",
    "#merged_df.iloc[:,:]=merged_df.iloc[:,:].astype(\"string\")\n",
    "merged_df['交易对手账卡号']=merged_df['交易对手账卡号'].astype(str)\n",
    "merged_df['卡号']=merged_df['卡号'].astype(str)\n",
    "\n",
    "# Write the updated dataframe to a new CSV file\n",
    "merged_df.to_excel(r\"D:\\项目\\重庆荣昌\\资金整理\\11112.xlsx\", index=False)"
   ]
  },
  {
   "cell_type": "code",
   "execution_count": null,
   "id": "71783413",
   "metadata": {},
   "outputs": [],
   "source": []
  }
 ],
 "metadata": {
  "kernelspec": {
   "display_name": "Python 3 (ipykernel)",
   "language": "python",
   "name": "python3"
  },
  "language_info": {
   "codemirror_mode": {
    "name": "ipython",
    "version": 3
   },
   "file_extension": ".py",
   "mimetype": "text/x-python",
   "name": "python",
   "nbconvert_exporter": "python",
   "pygments_lexer": "ipython3",
   "version": "3.9.13"
  }
 },
 "nbformat": 4,
 "nbformat_minor": 5
}
