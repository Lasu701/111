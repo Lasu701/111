{
 "cells": [
  {
   "cell_type": "code",
   "execution_count": 1,
   "id": "222fc047",
   "metadata": {},
   "outputs": [],
   "source": [
    "#交易信息\n",
    "import pandas as pd\n",
    "from pathlib import Path\n",
    "import re\n",
    "import os\n",
    "import pandas as pd\n",
    "import csv\n",
    "def insert_name(name):\n",
    "    # 为csv文件添加文件名列\n",
    "    df = pd.read_csv(name,encoding=\"ANSI\",engine='python',quotechar='\"', delimiter='\\t\",', quoting=csv.QUOTE_ALL, skipinitialspace=True)\n",
    "\n",
    "    df.columns = df.columns.str.replace('\"', '').str.replace('\\t', '')\n",
    "    for col in df.columns:\n",
    "        if df[col].dtype == 'object':  # Only perform the operation on string columns\n",
    "            df[col] = df[col].str.replace('\"', '').str.replace('\\t', '')\n",
    "\n",
    "    df.insert(0, \"文件名\", name.stem)\n",
    "\n",
    "\n",
    "    return df\n",
    "# 合并csv文件\n",
    "data=[]\n",
    "hb=[]\n",
    "\n",
    "for index,name in enumerate(Path(r\"D:\\项目\\鄂州梁子湖区\\返回流水\\解压流水\").rglob(\"*交易*.csv\")):\n",
    "    #print(name)\n",
    "    try:\n",
    "        df=insert_name(name)\n",
    "        hb.append(df)\n",
    "    except:\n",
    "        print(name)\n",
    "    \n",
    "    \n",
    "data=pd.concat(hb)\n",
    "#data.columns=data.columns.str.strip()\n",
    "data['交易卡号']=data['交易卡号'].apply(lambda x:re.split(r'_', x)).apply(lambda x:x[0])\n",
    "data['交易卡号']=data['交易卡号'].apply(lambda x:re.split(r'-', x)).apply(lambda x:x[0])\n",
    "data['交易账号']=data['交易账号'].apply(lambda x:re.split(r'_', x)).apply(lambda x:x[0])\n",
    "data['交易账号']=data['交易账号'].apply(lambda x:re.split(r'-', x)).apply(lambda x:x[0])\n",
    "data['交易金额'] = pd.to_numeric(data['交易金额'],errors='coerce')\n",
    "data['交易余额'] = pd.to_numeric(data['交易余额'],errors='coerce')\n",
    "data=data.drop_duplicates()"
   ]
  },
  {
   "cell_type": "code",
   "execution_count": 57,
   "id": "e98d0dc9",
   "metadata": {},
   "outputs": [],
   "source": [
    "data=data.drop(columns=[ '归属目录'], inplace=False)"
   ]
  },
  {
   "cell_type": "code",
   "execution_count": 6,
   "id": "3d4c740c",
   "metadata": {},
   "outputs": [
    {
     "data": {
      "text/plain": [
       "Index(['文件名', '交易卡号', '交易账号', '交易时间', '交易金额', '交易余额', '收付标志', '交易对手账卡号',\n",
       "       '现金标志', '对手户名', '对手身份证号', '对手开户银行', '摘要说明', '交易币种', '交易网点名称', '交易发生地',\n",
       "       '交易是否成功', '传票号', 'IP地址', 'MAC地址', '对手交易余额', '交易流水号', '日志号', '凭证种类',\n",
       "       '凭证号', '交易柜员号', '备注', '查询反馈结果原因', '银行归属'],\n",
       "      dtype='object')"
      ]
     },
     "execution_count": 6,
     "metadata": {},
     "output_type": "execute_result"
    }
   ],
   "source": [
    "data.columns"
   ]
  },
  {
   "cell_type": "code",
   "execution_count": 10,
   "id": "629d41b9",
   "metadata": {},
   "outputs": [
    {
     "data": {
      "text/plain": [
       "Index(['交易卡号', '交易账号', '交易时间', '交易金额', '交易余额', '收付标志', '交易对手账卡号', '现金标志',\n",
       "       '对手户名', '对手身份证号', '对手开户银行', '摘要说明', '交易币种', '交易网点名称', '交易发生地', '交易是否成功',\n",
       "       '传票号', 'IP地址', 'MAC地址', '对手交易余额', '交易流水号', '日志号', '凭证种类', '凭证号',\n",
       "       '交易柜员号', '备注', '查询反馈结果原因', '银行归属'],\n",
       "      dtype='object')"
      ]
     },
     "execution_count": 10,
     "metadata": {},
     "output_type": "execute_result"
    }
   ],
   "source": [
    "ls.columns"
   ]
  },
  {
   "cell_type": "code",
   "execution_count": 2,
   "id": "a7472233",
   "metadata": {},
   "outputs": [
    {
     "data": {
      "text/plain": [
       "(3422136, 28)"
      ]
     },
     "execution_count": 2,
     "metadata": {},
     "output_type": "execute_result"
    }
   ],
   "source": [
    "data.shape"
   ]
  },
  {
   "cell_type": "code",
   "execution_count": 5,
   "id": "b005d13a",
   "metadata": {},
   "outputs": [],
   "source": [
    "\n",
    "# 使用str.extract()函数拆分第一列\n",
    "data['银行归属'] = data['文件名'].str.extract(r'(.+交易明细信息)')\n"
   ]
  },
  {
   "cell_type": "code",
   "execution_count": 213,
   "id": "3371eff1",
   "metadata": {},
   "outputs": [],
   "source": [
    "#data"
   ]
  },
  {
   "cell_type": "code",
   "execution_count": 12,
   "id": "4e740d60",
   "metadata": {},
   "outputs": [],
   "source": [
    "ls=data.drop(columns=['文件名', '归属目录'], inplace=False)"
   ]
  },
  {
   "cell_type": "code",
   "execution_count": 8,
   "id": "b85a3791",
   "metadata": {},
   "outputs": [],
   "source": [
    "ls=data.drop(columns=['文件名'], inplace=False)"
   ]
  },
  {
   "cell_type": "code",
   "execution_count": 61,
   "id": "6f2df86b",
   "metadata": {},
   "outputs": [
    {
     "data": {
      "text/plain": [
       "(3422136, 28)"
      ]
     },
     "execution_count": 61,
     "metadata": {},
     "output_type": "execute_result"
    }
   ],
   "source": [
    "ls_all.shape"
   ]
  },
  {
   "cell_type": "code",
   "execution_count": 9,
   "id": "6b6bc223",
   "metadata": {},
   "outputs": [
    {
     "data": {
      "text/plain": [
       "(3422136, 28)"
      ]
     },
     "execution_count": 9,
     "metadata": {},
     "output_type": "execute_result"
    }
   ],
   "source": [
    "ls.shape"
   ]
  },
  {
   "cell_type": "code",
   "execution_count": 127,
   "id": "2a1125aa",
   "metadata": {},
   "outputs": [
    {
     "data": {
      "text/plain": [
       "(3032627, 30)"
      ]
     },
     "execution_count": 127,
     "metadata": {},
     "output_type": "execute_result"
    }
   ],
   "source": [
    "ls.shape"
   ]
  },
  {
   "cell_type": "code",
   "execution_count": 11,
   "id": "45c8c63b",
   "metadata": {},
   "outputs": [],
   "source": [
    "ls=ls.drop_duplicates()"
   ]
  },
  {
   "cell_type": "code",
   "execution_count": 118,
   "id": "71b5e4b8",
   "metadata": {},
   "outputs": [
    {
     "data": {
      "text/plain": [
       "(1920212, 30)"
      ]
     },
     "execution_count": 118,
     "metadata": {},
     "output_type": "execute_result"
    }
   ],
   "source": [
    "ls_1c922.shape"
   ]
  },
  {
   "cell_type": "code",
   "execution_count": 64,
   "id": "d361144d",
   "metadata": {},
   "outputs": [
    {
     "data": {
      "text/plain": [
       "0    NaN\n",
       "Name: 银行归属, dtype: object"
      ]
     },
     "execution_count": 64,
     "metadata": {},
     "output_type": "execute_result"
    }
   ],
   "source": [
    "ls['银行归属'].drop_duplicates()"
   ]
  },
  {
   "cell_type": "code",
   "execution_count": 13,
   "id": "7f04d0db",
   "metadata": {},
   "outputs": [],
   "source": [
    "data_kh_kong=pd.read_excel(r\"D:\\项目\\鄂州梁子湖区\\资金分析\\账户信息\\kong822.xlsx\",sheet_name=1,dtype={'交易卡号':str,'交易账号':str})\n",
    "data_bank=data_kh_kong[['交易卡号','交易账号']]\n",
    "data_bank=data_bank.drop_duplicates()\n",
    "bank_dit={k:v for k,v in zip(data_bank['交易账号'],data_bank['交易卡号'])}"
   ]
  },
  {
   "cell_type": "code",
   "execution_count": 14,
   "id": "c754aad3",
   "metadata": {},
   "outputs": [],
   "source": [
    "def getContinent(x,y):\n",
    "    if y=='':\n",
    "        if x in list(filter(lambda zh: zh in bank_dit, bank_dit.keys())):\n",
    "        #print(x)\n",
    "        \n",
    "            val=x.replace(x, bank_dit[x])\n",
    "        else:\n",
    "            \n",
    "            val=y\n",
    "    \n",
    "    else:\n",
    "        val=y\n",
    "    \n",
    "    return val\n",
    "\n",
    "#data['完整卡号'] = data.apply(lambda row: getContinent(row['交易账号'], row['交易卡号']), axis=1)\n",
    "ls.insert(1,'卡号',ls.apply(lambda row: getContinent(row['交易账号'], row['交易卡号']), axis=1))"
   ]
  },
  {
   "cell_type": "code",
   "execution_count": 124,
   "id": "7b114098",
   "metadata": {},
   "outputs": [],
   "source": [
    "#ls_2c_922['流向金额']"
   ]
  },
  {
   "cell_type": "code",
   "execution_count": 129,
   "id": "77de41c5",
   "metadata": {},
   "outputs": [],
   "source": [
    "ls9477=ls[ls['卡号']=='6228480636323230764']"
   ]
  },
  {
   "cell_type": "code",
   "execution_count": 212,
   "id": "ef66ca5d",
   "metadata": {},
   "outputs": [],
   "source": [
    "#ls[ls['卡号']=='6228480636323230764']"
   ]
  },
  {
   "cell_type": "code",
   "execution_count": null,
   "id": "c0df5e8f",
   "metadata": {},
   "outputs": [],
   "source": []
  },
  {
   "cell_type": "code",
   "execution_count": 125,
   "id": "babf149f",
   "metadata": {},
   "outputs": [],
   "source": [
    "ls=ls.drop(columns=[ '流向金额'], inplace=False)"
   ]
  },
  {
   "cell_type": "code",
   "execution_count": 16,
   "id": "c1edabc9",
   "metadata": {},
   "outputs": [],
   "source": [
    "def chuli_chongzheng_lei(i2, f2):\n",
    "    if pd.isna(i2):\n",
    "        return f2  # or any appropriate value when i2 is NA\n",
    "\n",
    "    if i2 in [\"出\", \"D\", \"借\", \"转出\"]:\n",
    "        result = -f2\n",
    "    else:\n",
    "        result = f2\n",
    "\n",
    "    return result\n",
    "ls.insert(4,'流向金额',ls.apply(lambda row: chuli_chongzheng_lei(row['收付标志'], row['交易金额']), axis=1))"
   ]
  },
  {
   "cell_type": "code",
   "execution_count": 15,
   "id": "86812395",
   "metadata": {},
   "outputs": [],
   "source": [
    "need_ka=pd.read_excel(r\"D:\\项目\\鄂州梁子湖区\\资金分析\\账户信息\\账户816发818返反馈.xlsx\",sheet_name='会员填单选取收款卡',dtype={'平台收款卡':str})\n",
    "need_ka.rename(columns = {'平台收款卡':'卡号'},inplace = True)"
   ]
  },
  {
   "cell_type": "code",
   "execution_count": 18,
   "id": "a1cf9b43",
   "metadata": {},
   "outputs": [],
   "source": [
    "ls_1c926=ls.merge(need_ka,how='inner',on='卡号')"
   ]
  },
  {
   "cell_type": "code",
   "execution_count": 19,
   "id": "6bf6ffc7",
   "metadata": {},
   "outputs": [
    {
     "data": {
      "text/plain": [
       "(1530704, 30)"
      ]
     },
     "execution_count": 19,
     "metadata": {},
     "output_type": "execute_result"
    }
   ],
   "source": [
    "ls_1c926.shape"
   ]
  },
  {
   "cell_type": "code",
   "execution_count": 88,
   "id": "bc71b454",
   "metadata": {},
   "outputs": [],
   "source": [
    "ls_1c926.to_csv(r\"D:\\项目\\鄂州梁子湖区\\资金分析\\ls_1c926.csv\",index=False)"
   ]
  },
  {
   "cell_type": "code",
   "execution_count": 21,
   "id": "dfe24091",
   "metadata": {},
   "outputs": [],
   "source": [
    "ka_skd=pd.read_excel(r\"D:\\项目\\鄂州梁子湖区\\资金分析\\cs\\czjl_t.xlsx\",sheet_name='调收款卡',dtype={'NP_PAY_ACCOUNT':str})"
   ]
  },
  {
   "cell_type": "code",
   "execution_count": 22,
   "id": "07a5e7a4",
   "metadata": {},
   "outputs": [],
   "source": [
    "import pandas as pd\n",
    "from datetime import datetime, timedelta\n",
    "ka_skd.rename(columns = {'NP_PAY_ACCOUNT':'卡号'},inplace = True)\n",
    "criteria_df=ka_skd\n",
    "transactions_df=ls_1c926\n",
    "\n",
    "transactions_df.loc[:, '交易时间'] = pd.to_datetime(transactions_df['交易时间'],errors='coerce')\n",
    "criteria_df['充值实际最小时间'] = pd.to_datetime(criteria_df['充值实际最小时间'])\n",
    "criteria_df['充值实际最大时间'] = pd.to_datetime(criteria_df['充值实际最大时间'])\n",
    "\n",
    "# 定义前后3分钟的时间间隔\n",
    "delta = timedelta(minutes=4)\n",
    "\n",
    "# 使用apply函数进行筛选\n",
    "filtered_df1 = transactions_df.merge(criteria_df, on='卡号', how='left').\\\n",
    "    loc[lambda x: (x['交易时间'] > x['充值实际最小时间'] - delta) & (x['交易时间'] < x['充值实际最大时间'] + delta)]"
   ]
  },
  {
   "cell_type": "code",
   "execution_count": 23,
   "id": "773a596d",
   "metadata": {},
   "outputs": [],
   "source": [
    "filtered_df1['流向金额'] = pd.to_numeric(filtered_df1['流向金额'],errors='coerce')\n",
    "fxb_lx=filtered_df1.groupby(['卡号','交易对手账卡号', '对手户名']).agg(sum=('流向金额', 'sum'), count=('流向金额', 'count')).reset_index().sort_values('sum', ascending=True)"
   ]
  },
  {
   "cell_type": "code",
   "execution_count": 24,
   "id": "b9014c60",
   "metadata": {},
   "outputs": [],
   "source": [
    "fxb_lx_ka=filtered_df1.groupby(['交易对手账卡号']).agg(sum=('流向金额', 'sum'), count=('流向金额', 'count')).reset_index().sort_values('sum', ascending=True)"
   ]
  },
  {
   "cell_type": "code",
   "execution_count": 25,
   "id": "42334742",
   "metadata": {},
   "outputs": [],
   "source": [
    "fxb_lx_wm=filtered_df1.groupby(['卡号','交易对手账卡号']).agg(sum=('流向金额', 'sum'), count=('流向金额', 'count')).reset_index().sort_values('sum', ascending=True)"
   ]
  },
  {
   "cell_type": "code",
   "execution_count": 26,
   "id": "0220a327",
   "metadata": {},
   "outputs": [],
   "source": [
    "sj_2c_t = filtered_df1.groupby(['交易对手账卡号'])['交易时间'].agg(['min', 'max'])\n",
    "\n",
    "\n",
    "sj_2c_t = sj_2c_t.rename(columns={'交易对手账卡号':'卡号','min': '最小时间', 'max': '最大时间'})"
   ]
  },
  {
   "cell_type": "code",
   "execution_count": 27,
   "id": "00224cf9",
   "metadata": {},
   "outputs": [],
   "source": [
    "filtered_df_chu = filtered_df1[filtered_df1['收付标志'].isin([\"出\", \"D\", \"借\", \"转出\"])]"
   ]
  },
  {
   "cell_type": "code",
   "execution_count": 28,
   "id": "b9801f86",
   "metadata": {},
   "outputs": [],
   "source": [
    "fxb_chu=filtered_df_chu.groupby(['交易对手账卡号']).agg(sum=('流向金额', 'sum'), count=('流向金额', 'count')).reset_index().sort_values('sum', ascending=True)"
   ]
  },
  {
   "cell_type": "code",
   "execution_count": 29,
   "id": "6cd99135",
   "metadata": {},
   "outputs": [],
   "source": [
    "fxb_chu_ka=filtered_df_chu.groupby(['卡号','交易对手账卡号']).agg(sum=('流向金额', 'sum'), count=('流向金额', 'count')).reset_index().sort_values('sum', ascending=True)"
   ]
  },
  {
   "cell_type": "code",
   "execution_count": 30,
   "id": "d562db46",
   "metadata": {},
   "outputs": [],
   "source": [
    "with pd.ExcelWriter(r\"D:\\项目\\鄂州梁子湖区\\资金分析\\1层分析\\1层分析926出.xlsx\") as writer:\n",
    "        fxb_lx.to_excel(writer, sheet_name=\"fxb_lx\",index=False)\n",
    "        fxb_lx_ka.to_excel(writer, sheet_name=\"fxb_lx_ka\",index=False)\n",
    "        fxb_lx_wm.to_excel(writer, sheet_name=\"fxb_lx_wm\",index=False)\n",
    "        sj_2c_t.to_excel(writer, sheet_name=\"sj_2c_t\")\n",
    "        fxb_chu.to_excel(writer, sheet_name=\"fxb_chu\",index=False)\n",
    "        fxb_chu_ka.to_excel(writer, sheet_name=\"fxb_chu_ka\",index=False)"
   ]
  },
  {
   "cell_type": "code",
   "execution_count": 135,
   "id": "e91fb010",
   "metadata": {},
   "outputs": [],
   "source": [
    "#ls9477=ls[ls['卡号']=='6216690100013631626']\n",
    "ls9477.to_excel(r\"D:\\项目\\鄂州梁子湖区\\资金分析\\ls0764.xlsx\",index=False)"
   ]
  },
  {
   "cell_type": "code",
   "execution_count": 31,
   "id": "31fb6232",
   "metadata": {},
   "outputs": [],
   "source": [
    "ka_2c=pd.read_excel(r\"D:\\项目\\鄂州梁子湖区\\资金分析\\1层分析\\1层分析922出.xlsx\",sheet_name='922二层卡',dtype={'二级卡':str})"
   ]
  },
  {
   "cell_type": "code",
   "execution_count": 211,
   "id": "a6d1a8e7",
   "metadata": {},
   "outputs": [],
   "source": [
    "#ka_2c"
   ]
  },
  {
   "cell_type": "code",
   "execution_count": 199,
   "id": "12e2a590",
   "metadata": {},
   "outputs": [],
   "source": [
    "jc=ls[ls['卡号']=='6228480019064062078']"
   ]
  },
  {
   "cell_type": "code",
   "execution_count": 200,
   "id": "6957effb",
   "metadata": {},
   "outputs": [],
   "source": [
    "jc.to_excel(r\"D:\\项目\\鄂州梁子湖区\\资金分析\\cs\\fls6228480019064062078.xlsx\",index=False)"
   ]
  },
  {
   "cell_type": "code",
   "execution_count": 131,
   "id": "97db839c",
   "metadata": {},
   "outputs": [],
   "source": [
    "ka_2c.rename(columns = {'二级卡':'卡号'},inplace = True)"
   ]
  },
  {
   "cell_type": "code",
   "execution_count": 33,
   "id": "eba7e2a6",
   "metadata": {},
   "outputs": [],
   "source": [
    "ls_2c_922=ls.merge(ka_2c,how='inner',on='卡号')"
   ]
  },
  {
   "cell_type": "code",
   "execution_count": 160,
   "id": "d2371348",
   "metadata": {},
   "outputs": [],
   "source": [
    "sfpf=pd.read_excel(r\"D:\\项目\\鄂州梁子湖区\\cs\\是否跑分.xlsx\",sheet_name='是否跑分',dtype={'卡号':str})"
   ]
  },
  {
   "cell_type": "code",
   "execution_count": null,
   "id": "0321892e",
   "metadata": {},
   "outputs": [],
   "source": []
  },
  {
   "cell_type": "code",
   "execution_count": 161,
   "id": "7c55cbe1",
   "metadata": {},
   "outputs": [],
   "source": [
    "ls_sfpf=ls.merge(sfpf,how='inner',on='卡号')"
   ]
  },
  {
   "cell_type": "code",
   "execution_count": 95,
   "id": "70d49b23",
   "metadata": {},
   "outputs": [],
   "source": [
    "sfpf=pd.read_excel(r\"D:\\项目\\鄂州梁子湖区\\cs\\是否跑分.xlsx\",sheet_name='是否跑分2',dtype={'卡号':str})"
   ]
  },
  {
   "cell_type": "code",
   "execution_count": 187,
   "id": "c1324e68",
   "metadata": {},
   "outputs": [],
   "source": [
    "pf=pd.read_excel(r\"D:\\项目\\鄂州梁子湖区\\cs\\是否跑分.xlsx\",sheet_name='跑分卡',dtype={'卡号':str})"
   ]
  },
  {
   "cell_type": "code",
   "execution_count": 165,
   "id": "d5bfa8a2",
   "metadata": {},
   "outputs": [],
   "source": [
    "#pf"
   ]
  },
  {
   "cell_type": "code",
   "execution_count": null,
   "id": "aba07507",
   "metadata": {},
   "outputs": [],
   "source": []
  },
  {
   "cell_type": "code",
   "execution_count": 184,
   "id": "4873d301",
   "metadata": {},
   "outputs": [],
   "source": [
    "ls_sfpf=ls.merge(pf,how='inner',on='卡号')"
   ]
  },
  {
   "cell_type": "code",
   "execution_count": 188,
   "id": "432604bb",
   "metadata": {},
   "outputs": [],
   "source": [
    "ls_pf=ls.merge(pf,how='inner',on='卡号')"
   ]
  },
  {
   "cell_type": "code",
   "execution_count": 185,
   "id": "9a7852c6",
   "metadata": {},
   "outputs": [],
   "source": [
    "ls_sfpf['交易时间'] = pd.to_datetime(ls_sfpf['交易时间'],errors='coerce')\n",
    "\n",
    "# 提取日期和小时\n",
    "ls_sfpf['date'] = ls_sfpf['交易时间'].dt.date\n",
    "ls_sfpf['hour'] = ls_sfpf['交易时间'].dt.hour\n",
    "\n",
    "# 定义跑分的阈值\n",
    "count_threshold = 14\n",
    "count_threshold_night = 10\n",
    "\n",
    "# 计算每间隔一小时的交易次数，并判断是否在跑分\n",
    "ls_sfpf_count = ls_sfpf.groupby(['卡号', 'date', 'hour']).size().reset_index(name='count')\n",
    "ls_sfpf_count['is_running'] = ((ls_sfpf_count['count'] >= count_threshold) |\n",
    "                          ((ls_sfpf_count['count'] >= count_threshold_night) & (ls_sfpf_count['hour'].between(0, 5))))\n",
    "\n",
    "# 将符合跑分条件的日期和小时映射到ls_sfpf中\n",
    "ls_sfpf = ls_sfpf.merge(ls_sfpf_count[['卡号', 'date', 'hour', 'is_running']], on=['卡号', 'date', 'hour'], how='left')\n",
    "\n",
    "# 填充 'is_running' 列的 NaN 值为 False\n",
    "ls_sfpf['is_running'] = ls_sfpf['is_running'].fillna(False)\n",
    "\n",
    "# 计算跑分的总金额\n",
    "running_sum = ls_sfpf[ls_sfpf['is_running']].groupby('卡号')['交易金额'].sum().reset_index(name='跑分总金额')\n",
    "\n",
    "running_count = ls_sfpf[ls_sfpf['is_running']].groupby('卡号').size().reset_index(name='跑分总次数')\n",
    "\n",
    "# 合并跑分总金额和跑分总次数\n",
    "ls_sfpf_output = pd.merge(running_sum, running_count, on='卡号')\n",
    "ls_sfpf_output.to_excel(r\"D:\\项目\\鄂州梁子湖区\\cs\\对手ls_sfpf_output.xlsx\",index=False)"
   ]
  },
  {
   "cell_type": "code",
   "execution_count": 189,
   "id": "64f303f5",
   "metadata": {},
   "outputs": [],
   "source": [
    "ls_pf['交易时间'] = pd.to_datetime(ls_pf['交易时间'],errors='coerce')\n",
    "\n",
    "# 提取日期和小时\n",
    "ls_pf['date'] = ls_pf['交易时间'].dt.date\n",
    "ls_pf['hour'] = ls_pf['交易时间'].dt.hour\n",
    "\n",
    "# 定义跑分的阈值\n",
    "count_threshold = 14\n",
    "count_threshold_night = 10\n",
    "\n",
    "# 计算每间隔一小时的交易次数，并判断是否在跑分\n",
    "ls_pf_count = ls_pf.groupby(['卡号', 'date', 'hour']).size().reset_index(name='count')\n",
    "ls_pf_count['is_running'] = ((ls_pf_count['count'] >= count_threshold) |\n",
    "                          ((ls_pf_count['count'] >= count_threshold_night) & (ls_pf_count['hour'].between(0, 5))))\n",
    "\n",
    "# 将符合跑分条件的日期和小时映射到ls_pf中\n",
    "ls_pf = ls_pf.merge(ls_pf_count[['卡号', 'date', 'hour', 'is_running']], on=['卡号', 'date', 'hour'], how='left')\n",
    "\n",
    "# 填充 'is_running' 列的 NaN 值为 False\n",
    "ls_pf['is_running'] = ls_pf['is_running'].fillna(False)\n"
   ]
  },
  {
   "cell_type": "code",
   "execution_count": 190,
   "id": "cc624889",
   "metadata": {},
   "outputs": [],
   "source": [
    "wqpf=ls_pf[ls_pf['is_running']]"
   ]
  },
  {
   "cell_type": "code",
   "execution_count": 191,
   "id": "ca349c01",
   "metadata": {},
   "outputs": [],
   "source": [
    "pf_t = wqpf.groupby(['卡号'])['交易时间'].agg(['min', 'max'])\n",
    "\n",
    "\n",
    "pf_t = pf_t.rename(columns={'min': '最小时间', 'max': '最大时间'})"
   ]
  },
  {
   "cell_type": "code",
   "execution_count": 192,
   "id": "30fccabf",
   "metadata": {},
   "outputs": [],
   "source": [
    "pf_t = pf_t.reset_index()"
   ]
  },
  {
   "cell_type": "code",
   "execution_count": 209,
   "id": "95375944",
   "metadata": {},
   "outputs": [],
   "source": [
    "pfqk=ls_pf[ls_pf['卡号']=='6230520010082806875']"
   ]
  },
  {
   "cell_type": "code",
   "execution_count": 210,
   "id": "f13b8e3b",
   "metadata": {},
   "outputs": [],
   "source": [
    "pfqk.to_excel(r\"D:\\项目\\鄂州梁子湖区\\资金分析\\cs\\pfls6230520010082806875.xlsx\",index=False)"
   ]
  },
  {
   "cell_type": "code",
   "execution_count": 198,
   "id": "ec4035e3",
   "metadata": {},
   "outputs": [],
   "source": [
    "pfqksx=filtered_pf[filtered_pf['卡号']=='6228480639284773277']\n",
    "pfqksx.to_excel(r\"D:\\项目\\鄂州梁子湖区\\资金分析\\cs\\sxpfls6228480639284773277.xlsx\",index=False)"
   ]
  },
  {
   "cell_type": "code",
   "execution_count": 214,
   "id": "1ba74ef3",
   "metadata": {},
   "outputs": [],
   "source": [
    "#pf_t[pf_t['卡号']=='6230520010082806875']"
   ]
  },
  {
   "cell_type": "code",
   "execution_count": 193,
   "id": "7a786690",
   "metadata": {},
   "outputs": [],
   "source": [
    "import pandas as pd\n",
    "from datetime import datetime, timedelta\n",
    "\n",
    "criteria_df=pf_t\n",
    "transactions_df=ls_pf\n",
    "#transactions_df.loc[:,'流向金额']=pd.to_numeric(transactions_df['流向金额'],errors='coerce')\n",
    "transactions_df.loc[:,'交易时间'] = pd.to_datetime(transactions_df['交易时间'],errors='coerce')\n",
    "criteria_df['最小时间'] = pd.to_datetime(criteria_df['最小时间'])\n",
    "criteria_df['最大时间'] = pd.to_datetime(criteria_df['最大时间'])\n",
    "\n",
    "\n",
    "delta = timedelta(minutes=4)\n",
    "\n",
    "# 使用apply函数进行筛选\n",
    "filtered_pf = transactions_df.merge(criteria_df, on='卡号', how='left').\\\n",
    "    loc[lambda x: (x['交易时间'] > x['最小时间'] - delta) & (x['交易时间'] < x['最大时间'] + delta)]"
   ]
  },
  {
   "cell_type": "code",
   "execution_count": 123,
   "id": "65cb4786",
   "metadata": {},
   "outputs": [],
   "source": [
    "#filtered_pf"
   ]
  },
  {
   "cell_type": "code",
   "execution_count": 194,
   "id": "0f3b699f",
   "metadata": {},
   "outputs": [],
   "source": [
    "#filtered_pf['流向金额'] = pd.to_numeric(filtered_pf['流向金额'],errors='coerce')\n",
    "fxb_lx=filtered_pf.groupby(['卡号','交易对手账卡号', '对手户名']).agg(sum=('流向金额', 'sum'), count=('流向金额', 'count')).reset_index().sort_values('sum', ascending=True)\n",
    "fxb_lx_ka=filtered_pf.groupby(['交易对手账卡号']).agg(sum=('流向金额', 'sum'), count=('流向金额', 'count')).reset_index().sort_values('sum', ascending=True)\n",
    "fxb_lx_wm=filtered_pf.groupby(['卡号','交易对手账卡号']).agg(sum=('流向金额', 'sum'), count=('流向金额', 'count')).reset_index().sort_values('sum', ascending=True)\n",
    "sj_pf_t = filtered_pf.groupby(['交易对手账卡号'])['交易时间'].agg(['min', 'max'])\n",
    "\n",
    "# 使用rename函数重命名列名\n",
    "sj_pf_t = sj_pf_t.rename(columns={'交易对手账卡号':'卡号','min': '最小时间', 'max': '最大时间'})\n",
    "filtered_df_chu = filtered_pf[filtered_pf['收付标志'].isin([\"出\", \"D\", \"借\", \"转出\"])]\n",
    "fxb_chu=filtered_df_chu.groupby(['交易对手账卡号']).agg(sum=('流向金额', 'sum'), count=('流向金额', 'count')).reset_index().sort_values('sum', ascending=True)\n",
    "fxb_chu_ka=filtered_df_chu.groupby(['卡号','交易对手账卡号']).agg(sum=('流向金额', 'sum'), count=('流向金额', 'count')).reset_index().sort_values('sum', ascending=True)\n",
    "with pd.ExcelWriter(r\"D:\\项目\\鄂州梁子湖区\\资金分析\\跑分1007一二层出.xlsx\") as writer:\n",
    "        fxb_lx.to_excel(writer, sheet_name=\"fxb_lx\",index=False)\n",
    "        fxb_lx_ka.to_excel(writer, sheet_name=\"fxb_lx_ka\",index=False)\n",
    "        fxb_lx_wm.to_excel(writer, sheet_name=\"fxb_lx_wm\",index=False)\n",
    "        sj_3c_t.to_excel(writer, sheet_name=\"sj_3c_t\")\n",
    "        fxb_chu.to_excel(writer, sheet_name=\"fxb_chu\",index=False)\n",
    "        fxb_chu_ka.to_excel(writer, sheet_name=\"fxb_chu_ka\",index=False)\n"
   ]
  },
  {
   "cell_type": "code",
   "execution_count": 115,
   "id": "5cd1d0af",
   "metadata": {},
   "outputs": [],
   "source": [
    "#wqpf['流向金额'] = pd.to_numeric(wqpf['流向金额'],errors='coerce')\n",
    "fxb_lx=wqpf.groupby(['卡号','交易对手账卡号', '对手户名']).agg(sum=('流向金额', 'sum'), count=('流向金额', 'count')).reset_index().sort_values('sum', ascending=True)\n",
    "fxb_lx_ka=wqpf.groupby(['交易对手账卡号']).agg(sum=('流向金额', 'sum'), count=('流向金额', 'count')).reset_index().sort_values('sum', ascending=True)\n",
    "fxb_lx_wm=wqpf.groupby(['卡号','交易对手账卡号']).agg(sum=('流向金额', 'sum'), count=('流向金额', 'count')).reset_index().sort_values('sum', ascending=True)\n",
    "sj_pf_t = wqpf.groupby(['交易对手账卡号'])['交易时间'].agg(['min', 'max'])\n",
    "\n",
    "# 使用rename函数重命名列名\n",
    "sj_pf_t = sj_pf_t.rename(columns={'交易对手账卡号':'卡号','min': '最小时间', 'max': '最大时间'})\n",
    "filtered_df_chu = wqpf[wqpf['收付标志'].isin([\"出\", \"D\", \"借\", \"转出\"])]\n",
    "fxb_chu=filtered_df_chu.groupby(['交易对手账卡号']).agg(sum=('流向金额', 'sum'), count=('流向金额', 'count')).reset_index().sort_values('sum', ascending=True)\n",
    "fxb_chu_ka=filtered_df_chu.groupby(['卡号','交易对手账卡号']).agg(sum=('流向金额', 'sum'), count=('流向金额', 'count')).reset_index().sort_values('sum', ascending=True)\n",
    "with pd.ExcelWriter(r\"D:\\项目\\鄂州梁子湖区\\资金分析\\跑分一二层出.xlsx\") as writer:\n",
    "        fxb_lx.to_excel(writer, sheet_name=\"fxb_lx\",index=False)\n",
    "        fxb_lx_ka.to_excel(writer, sheet_name=\"fxb_lx_ka\",index=False)\n",
    "        fxb_lx_wm.to_excel(writer, sheet_name=\"fxb_lx_wm\",index=False)\n",
    "        sj_3c_t.to_excel(writer, sheet_name=\"sj_3c_t\")\n",
    "        fxb_chu.to_excel(writer, sheet_name=\"fxb_chu\",index=False)\n",
    "        fxb_chu_ka.to_excel(writer, sheet_name=\"fxb_chu_ka\",index=False)"
   ]
  },
  {
   "cell_type": "code",
   "execution_count": 71,
   "id": "e9e4f811",
   "metadata": {},
   "outputs": [],
   "source": [
    "import pandas as pd\n",
    "from datetime import datetime, timedelta\n",
    "ka_2c_t=pd.read_excel(r\"D:\\项目\\鄂州梁子湖区\\资金分析\\1层分析\\1层分析922出.xlsx\",sheet_name='922二层卡时间范围',dtype={'二级卡':str})\n",
    "ka_2c_t.rename(columns = {'二级卡':'卡号'},inplace = True)\n",
    "criteria_df=ka_2c_t\n",
    "transactions_df=ls_2c_922\n",
    "#transactions_df.loc[:,'流向金额']=pd.to_numeric(transactions_df['流向金额'],errors='coerce')\n",
    "transactions_df.loc[:,'交易时间'] = pd.to_datetime(transactions_df['交易时间'],errors='coerce')\n",
    "criteria_df['最小时间'] = pd.to_datetime(criteria_df['最小时间'])\n",
    "criteria_df['最大时间'] = pd.to_datetime(criteria_df['最大时间'])\n",
    "\n",
    "\n",
    "delta = timedelta(minutes=4)\n",
    "\n",
    "# 使用apply函数进行筛选\n",
    "filtered_df2 = transactions_df.merge(criteria_df, on='卡号', how='left').\\\n",
    "    loc[lambda x: (x['交易时间'] > x['最小时间'] - delta) & (x['交易时间'] < x['最大时间'] + delta)]"
   ]
  },
  {
   "cell_type": "code",
   "execution_count": 72,
   "id": "79f5850a",
   "metadata": {},
   "outputs": [],
   "source": [
    "ls9477=filtered_df2[filtered_df2['卡号']=='6228480636323230764']"
   ]
  },
  {
   "cell_type": "code",
   "execution_count": 215,
   "id": "865abf4d",
   "metadata": {},
   "outputs": [],
   "source": [
    "#ls9477"
   ]
  },
  {
   "cell_type": "code",
   "execution_count": 216,
   "id": "b11e7424",
   "metadata": {},
   "outputs": [],
   "source": [
    "#ls9477[ls9477['对手户名']=='刘航']"
   ]
  },
  {
   "cell_type": "code",
   "execution_count": 48,
   "id": "ad3677ef",
   "metadata": {},
   "outputs": [],
   "source": [
    "ls9477.to_csv(r\"D:\\项目\\鄂州梁子湖区\\资金分析\\cs\\fls0764.csv\",index=False)"
   ]
  },
  {
   "cell_type": "code",
   "execution_count": 51,
   "id": "6ef73b44",
   "metadata": {},
   "outputs": [],
   "source": [
    "jc=ls_2c_922[ls_2c_922['卡号']=='6228480636323230764']"
   ]
  },
  {
   "cell_type": "code",
   "execution_count": 60,
   "id": "197a9205",
   "metadata": {},
   "outputs": [],
   "source": [
    "#jc[jc['对手户名']=='刘航']"
   ]
  },
  {
   "cell_type": "code",
   "execution_count": 35,
   "id": "e80c20e4",
   "metadata": {},
   "outputs": [],
   "source": [
    "#ls9477.iloc[1280:1285,:]"
   ]
  },
  {
   "cell_type": "code",
   "execution_count": 75,
   "id": "f2133504",
   "metadata": {},
   "outputs": [],
   "source": [
    "#filtered_df2['流向金额'] = pd.to_numeric(filtered_df2['流向金额'],errors='coerce')\n",
    "fxb_lx=filtered_df2.groupby(['卡号','交易对手账卡号', '对手户名']).agg(sum=('流向金额', 'sum'), count=('流向金额', 'count')).reset_index().sort_values('sum', ascending=True)"
   ]
  },
  {
   "cell_type": "code",
   "execution_count": 76,
   "id": "aa20eabc",
   "metadata": {},
   "outputs": [],
   "source": [
    "fxb_lx_ka=filtered_df2.groupby(['交易对手账卡号']).agg(sum=('流向金额', 'sum'), count=('流向金额', 'count')).reset_index().sort_values('sum', ascending=True)"
   ]
  },
  {
   "cell_type": "code",
   "execution_count": 77,
   "id": "10206d6c",
   "metadata": {},
   "outputs": [],
   "source": [
    "fxb_lx_wm=filtered_df2.groupby(['卡号','交易对手账卡号']).agg(sum=('流向金额', 'sum'), count=('流向金额', 'count')).reset_index().sort_values('sum', ascending=True)"
   ]
  },
  {
   "cell_type": "code",
   "execution_count": 78,
   "id": "82ff88e2",
   "metadata": {},
   "outputs": [],
   "source": [
    "sj_3c_t = filtered_df2.groupby(['交易对手账卡号'])['交易时间'].agg(['min', 'max'])\n",
    "\n",
    "# 使用rename函数重命名列名\n",
    "sj_3c_t = sj_3c_t.rename(columns={'交易对手账卡号':'卡号','min': '最小时间', 'max': '最大时间'})"
   ]
  },
  {
   "cell_type": "code",
   "execution_count": 79,
   "id": "d36a973d",
   "metadata": {},
   "outputs": [],
   "source": [
    "filtered_df_chu = filtered_df2[filtered_df2['收付标志'].isin([\"出\", \"D\", \"借\", \"转出\"])]"
   ]
  },
  {
   "cell_type": "code",
   "execution_count": 80,
   "id": "790d00d7",
   "metadata": {},
   "outputs": [],
   "source": [
    "fxb_chu=filtered_df_chu.groupby(['交易对手账卡号']).agg(sum=('流向金额', 'sum'), count=('流向金额', 'count')).reset_index().sort_values('sum', ascending=True)"
   ]
  },
  {
   "cell_type": "code",
   "execution_count": 81,
   "id": "765ec83e",
   "metadata": {},
   "outputs": [],
   "source": [
    "fxb_chu_ka=filtered_df_chu.groupby(['卡号','交易对手账卡号']).agg(sum=('流向金额', 'sum'), count=('流向金额', 'count')).reset_index().sort_values('sum', ascending=True)"
   ]
  },
  {
   "cell_type": "code",
   "execution_count": 82,
   "id": "8b3d584a",
   "metadata": {},
   "outputs": [],
   "source": [
    "with pd.ExcelWriter(r\"D:\\项目\\鄂州梁子湖区\\资金分析\\二层分析\\2层分析926出.xlsx\") as writer:\n",
    "        fxb_lx.to_excel(writer, sheet_name=\"fxb_lx\",index=False)\n",
    "        fxb_lx_ka.to_excel(writer, sheet_name=\"fxb_lx_ka\",index=False)\n",
    "        fxb_lx_wm.to_excel(writer, sheet_name=\"fxb_lx_wm\",index=False)\n",
    "        sj_3c_t.to_excel(writer, sheet_name=\"sj_3c_t\")\n",
    "        fxb_chu.to_excel(writer, sheet_name=\"fxb_chu\",index=False)\n",
    "        fxb_chu_ka.to_excel(writer, sheet_name=\"fxb_chu_ka\",index=False)"
   ]
  },
  {
   "cell_type": "code",
   "execution_count": null,
   "id": "d5e2542b",
   "metadata": {},
   "outputs": [],
   "source": []
  }
 ],
 "metadata": {
  "kernelspec": {
   "display_name": "Python 3 (ipykernel)",
   "language": "python",
   "name": "python3"
  },
  "language_info": {
   "codemirror_mode": {
    "name": "ipython",
    "version": 3
   },
   "file_extension": ".py",
   "mimetype": "text/x-python",
   "name": "python",
   "nbconvert_exporter": "python",
   "pygments_lexer": "ipython3",
   "version": "3.9.13"
  }
 },
 "nbformat": 4,
 "nbformat_minor": 5
}
