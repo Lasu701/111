{
 "cells": [
  {
   "cell_type": "code",
   "execution_count": 20,
   "id": "77491a61",
   "metadata": {},
   "outputs": [],
   "source": [
    "import pandas as pd\n",
    "from pathlib import Path\n",
    "import re\n",
    "import os\n",
    "import pandas as pd\n",
    "import csv\n",
    "#for index,name in enumerate(Path(r\"D:\\项目\\西宁\\冻结相关\\图712\\图二级卡\").rglob(\"*\")):\n",
    "    #print(name)"
   ]
  },
  {
   "cell_type": "code",
   "execution_count": 5,
   "id": "7e63141f",
   "metadata": {},
   "outputs": [
    {
     "name": "stdout",
     "output_type": "stream",
     "text": [
      "1790801.59\t-59600\t59600\t资金流水已生成\n",
      "782063.33\t-118000\t118000\t资金流水已生成\n",
      "\n"
     ]
    }
   ],
   "source": [
    "import pandas as pd\n",
    "\n",
    "# 创建DataFrame\n",
    "data = {'金额': [1790801.59, 782063.33],\n",
    "        '支出': [-59600, -118000],\n",
    "        '收入': [59600, 118000],\n",
    "        '状态': ['资金流水已生成', '资金流水已生成']}\n",
    "df = pd.DataFrame(data)\n",
    "\n",
    "# 生成两行字符串\n",
    "output = ''\n",
    "for index, row in df.iterrows():\n",
    "    line = str(row['金额']) + '\\t' + str(row['支出']) + '\\t' + str(row['收入']) + '\\t' + row['状态'] + '\\n'\n",
    "    output += line\n",
    "\n",
    "# 打印输出字符串\n",
    "print(output)"
   ]
  },
  {
   "cell_type": "code",
   "execution_count": 9,
   "id": "9fd3703d",
   "metadata": {},
   "outputs": [
    {
     "name": "stdout",
     "output_type": "stream",
     "text": [
      "使用 iterrows() 方法耗时:  0.14531612396240234\n",
      "使用 itertuples() 方法耗时:  0.0039598941802978516\n",
      "使用 apply 方法耗时:  0.02103734016418457\n",
      "使用 to_string 方法耗时:  0.020843029022216797\n"
     ]
    }
   ],
   "source": [
    "import time\n",
    "import pandas as pd\n",
    "\n",
    "# 创建DataFrame\n",
    "data = {'金额': [1790801.59]*1000,\n",
    "        '支出': [-59600]*1000,\n",
    "        '收入': [59600]*1000,\n",
    "        '状态': ['资金流水已生成']*1000}\n",
    "df = pd.DataFrame(data)\n",
    "\n",
    "# 1. 使用 iterrows() 方法\n",
    "start_time = time.time()\n",
    "output = ''\n",
    "for index, row in df.iterrows():\n",
    "    line = str(row['金额']) + '\\t' + str(row['支出']) + '\\t' + str(row['收入']) + '\\t' + row['状态'] + '\\n'\n",
    "    output += line\n",
    "end_time = time.time()\n",
    "print(\"使用 iterrows() 方法耗时: \", end_time - start_time)\n",
    "\n",
    "# 2. 使用 itertuples() 方法\n",
    "start_time = time.time()\n",
    "output = ''\n",
    "for row in df.itertuples():\n",
    "    line = str(row.金额) + '\\t' + str(row.支出) + '\\t' + str(row.收入) + '\\t' + row.状态 + '\\n'\n",
    "    output += line\n",
    "end_time = time.time()\n",
    "print(\"使用 itertuples() 方法耗时: \", end_time - start_time)\n",
    "\n",
    "# 3. 使用 apply 方法\n",
    "start_time = time.time()\n",
    "output = df.apply(lambda row: str(row['金额']) + '\\t' + str(row['支出']) + '\\t' + str(row['收入']) + '\\t' + row['状态'], axis=1).str.cat(sep='\\n')\n",
    "end_time = time.time()\n",
    "print(\"使用 apply 方法耗时: \", end_time - start_time)\n",
    "\n",
    "# 4. 使用 to_string 方法\n",
    "start_time = time.time()\n",
    "output = df.to_string(index=False, header=False)\n",
    "end_time = time.time()\n",
    "print(\"使用 to_string 方法耗时: \", end_time - start_time)"
   ]
  },
  {
   "cell_type": "code",
   "execution_count": 13,
   "id": "f61bbbe8",
   "metadata": {},
   "outputs": [
    {
     "data": {
      "text/plain": [
       "'D:\\\\项目\\\\西宁\\\\冻结相关\\\\cs\\\\111\\\\1112.pdf'"
      ]
     },
     "execution_count": 13,
     "metadata": {},
     "output_type": "execute_result"
    }
   ],
   "source": [
    "from graphviz import Digraph\n",
    "\n",
    "photo = Digraph()\n",
    "# 在这里继续你的代码\n",
    "photo.graph_attr['rankdir'] = 'LR' \n",
    "data = {'金额': [1790801.59]*1000,\n",
    "        '支出': [-59600]*1000,\n",
    "        '收入': [59600]*1000,\n",
    "        '状态': ['资金流水已生成']*1000}\n",
    "df = pd.DataFrame(data)\n",
    "# 假设df是你的DataFrame对象，lv2_name是字符串为\"A\"的节点名字\n",
    "df_str = df.to_string(index=False)  # 将整个DataFrame转换为字符串\n",
    "photo.attr('node', fontname='SimHei')\n",
    "photo.attr('edge', fontname='SimHei')\n",
    "# 创建一个新的节点以整个DataFrame字符串作为标签\n",
    "photo.node(name='df_node', label=df_str)\n",
    "\n",
    "# 假设node_list是多个节点的名称列表\n",
    "node_list = ['node1', 'node2', 'node3']\n",
    "\n",
    "# 将整个DataFrame节点指向其他节点\n",
    "for node_name in node_list:\n",
    "    photo.edge('df_node', node_name)\n",
    "\n",
    "# 将其他节点指向字符串\"A\"的节点\n",
    "for node_name in node_list:\n",
    "    photo.edge(node_name, 'A')\n",
    "\n",
    "# 保存图形为图片文件\n",
    "photo.render(filename='1112', directory=r'D:\\项目\\西宁\\冻结相关\\cs\\111')"
   ]
  },
  {
   "cell_type": "code",
   "execution_count": null,
   "id": "41c436e6",
   "metadata": {},
   "outputs": [],
   "source": [
    "fontname=\"Microsoft YaHei\",encoding='utf8'"
   ]
  },
  {
   "cell_type": "code",
   "execution_count": 24,
   "id": "ebd27233",
   "metadata": {},
   "outputs": [
    {
     "data": {
      "text/plain": [
       "'D:\\\\项目\\\\西宁\\\\冻结相关\\\\cs\\\\111\\\\1112.pdf'"
      ]
     },
     "execution_count": 24,
     "metadata": {},
     "output_type": "execute_result"
    }
   ],
   "source": [
    "from graphviz import Digraph\n",
    "\n",
    "photo = Digraph()\n",
    "# 在这里继续你的代码\n",
    "photo.graph_attr['rankdir'] = 'LR' \n",
    "data = {'金额': [1790801.59]*1000,\n",
    "        '支出': [-59600]*1000,\n",
    "        '收入': [59600]*1000,\n",
    "        '状态': ['资金流水已生成']*1000}\n",
    "df = pd.DataFrame(data)\n",
    "# 假设df是你的DataFrame对象，lv2_name是字符串为\"A\"的节点名字\n",
    "df_str = df.to_string(index=False)  # 将整个DataFrame转换为字符串\n",
    "photo.attr('node',fontname='KaiTi',encoding='utf8')\n",
    "photo.attr('edge',fontname='KaiTi',encoding='utf8')\n",
    "# 创建一个新的节点以整个DataFrame字符串作为标签\n",
    "photo.node(name='df_node', label=df_str,shape='box',)\n",
    "\n",
    "# 假设node_list是多个节点的名称列表\n",
    "node_list = ['node1', 'node2', 'node3']\n",
    "\n",
    "# 将整个DataFrame节点指向其他节点\n",
    "for node_name in node_list:\n",
    "    photo.edge('df_node', node_name)\n",
    "\n",
    "# 将其他节点指向字符串\"A\"的节点\n",
    "for node_name in node_list:\n",
    "    photo.edge(node_name, 'A')\n",
    "\n",
    "# 保存图形为图片文件\n",
    "photo.render(filename='1112', directory=r'D:\\项目\\西宁\\冻结相关\\cs\\111')"
   ]
  },
  {
   "cell_type": "code",
   "execution_count": 21,
   "id": "5380e387",
   "metadata": {},
   "outputs": [],
   "source": [
    "#data_2_1_all=data.merge(huiy_ptsk,how='left',on='平台收款卡')"
   ]
  },
  {
   "cell_type": "code",
   "execution_count": 22,
   "id": "771e7eb5",
   "metadata": {},
   "outputs": [],
   "source": [
    "#data_2_1=data_2_1_all.groupby(['会员卡', '对手户名','账号']).agg(sum_amount=('交易金额', 'sum'), count_amount=('交易金额次数', 'count')).reset_index().sort_values('sum_amount', ascending=False)"
   ]
  },
  {
   "cell_type": "code",
   "execution_count": 23,
   "id": "bc1d96a1",
   "metadata": {},
   "outputs": [],
   "source": [
    "data_2_1 = data_2_1_all.groupby(['会员卡', '对手户名', '账号']).agg(充值金额=('交易金额', 'sum'), 次数=('交易金额次数', 'count')).reset_index().sort_values('充值金额', ascending=False)"
   ]
  },
  {
   "cell_type": "code",
   "execution_count": 28,
   "id": "94a34d18",
   "metadata": {},
   "outputs": [
    {
     "name": "stdout",
     "output_type": "stream",
     "text": [
      "总金额: -350793\n",
      "总次数: 21\n"
     ]
    }
   ],
   "source": [
    "import pandas as pd\n",
    "\n",
    "data = pd.DataFrame({\n",
    "    '二级卡': ['6222034', '6222035', '6222036', '6222037', '6222038', '6222039'],\n",
    "    '平台收款卡': ['1422734', '1422734', '1422734', '1422734', '1422734', '1422734'],\n",
    "    '收款卡到二级卡流向金额': [-58468, -58467, -58466, -58465, -58464, -58463],\n",
    "    '收款卡到二级卡流向金额次数': [1, 2, 3, 4, 5, 6]\n",
    "})\n",
    "\n",
    "total_amount = data['收款卡到二级卡流向金额'].sum()\n",
    "total_count = data['收款卡到二级卡流向金额次数'].sum()\n",
    "\n",
    "print(\"总金额:\", total_amount)\n",
    "print(\"总次数:\", total_count)"
   ]
  },
  {
   "cell_type": "code",
   "execution_count": 27,
   "id": "b9b0322c",
   "metadata": {},
   "outputs": [
    {
     "data": {
      "text/html": [
       "<div>\n",
       "<style scoped>\n",
       "    .dataframe tbody tr th:only-of-type {\n",
       "        vertical-align: middle;\n",
       "    }\n",
       "\n",
       "    .dataframe tbody tr th {\n",
       "        vertical-align: top;\n",
       "    }\n",
       "\n",
       "    .dataframe thead th {\n",
       "        text-align: right;\n",
       "    }\n",
       "</style>\n",
       "<table border=\"1\" class=\"dataframe\">\n",
       "  <thead>\n",
       "    <tr style=\"text-align: right;\">\n",
       "      <th></th>\n",
       "      <th>二级卡</th>\n",
       "      <th>平台收款卡</th>\n",
       "      <th>充值金额</th>\n",
       "      <th>充值次数</th>\n",
       "    </tr>\n",
       "  </thead>\n",
       "  <tbody>\n",
       "    <tr>\n",
       "      <th>5</th>\n",
       "      <td>6222039</td>\n",
       "      <td>1422734</td>\n",
       "      <td>-58463</td>\n",
       "      <td>6</td>\n",
       "    </tr>\n",
       "    <tr>\n",
       "      <th>4</th>\n",
       "      <td>6222038</td>\n",
       "      <td>1422734</td>\n",
       "      <td>-58464</td>\n",
       "      <td>5</td>\n",
       "    </tr>\n",
       "    <tr>\n",
       "      <th>3</th>\n",
       "      <td>6222037</td>\n",
       "      <td>1422734</td>\n",
       "      <td>-58465</td>\n",
       "      <td>4</td>\n",
       "    </tr>\n",
       "    <tr>\n",
       "      <th>2</th>\n",
       "      <td>6222036</td>\n",
       "      <td>1422734</td>\n",
       "      <td>-58466</td>\n",
       "      <td>3</td>\n",
       "    </tr>\n",
       "    <tr>\n",
       "      <th>1</th>\n",
       "      <td>6222035</td>\n",
       "      <td>1422734</td>\n",
       "      <td>-58467</td>\n",
       "      <td>2</td>\n",
       "    </tr>\n",
       "    <tr>\n",
       "      <th>0</th>\n",
       "      <td>6222034</td>\n",
       "      <td>1422734</td>\n",
       "      <td>-58468</td>\n",
       "      <td>1</td>\n",
       "    </tr>\n",
       "  </tbody>\n",
       "</table>\n",
       "</div>"
      ],
      "text/plain": [
       "       二级卡    平台收款卡   充值金额  充值次数\n",
       "5  6222039  1422734 -58463     6\n",
       "4  6222038  1422734 -58464     5\n",
       "3  6222037  1422734 -58465     4\n",
       "2  6222036  1422734 -58466     3\n",
       "1  6222035  1422734 -58467     2\n",
       "0  6222034  1422734 -58468     1"
      ]
     },
     "execution_count": 27,
     "metadata": {},
     "output_type": "execute_result"
    }
   ],
   "source": [
    "data_123"
   ]
  },
  {
   "cell_type": "code",
   "execution_count": null,
   "id": "68cbcad2",
   "metadata": {},
   "outputs": [],
   "source": []
  }
 ],
 "metadata": {
  "kernelspec": {
   "display_name": "Python 3 (ipykernel)",
   "language": "python",
   "name": "python3"
  },
  "language_info": {
   "codemirror_mode": {
    "name": "ipython",
    "version": 3
   },
   "file_extension": ".py",
   "mimetype": "text/x-python",
   "name": "python",
   "nbconvert_exporter": "python",
   "pygments_lexer": "ipython3",
   "version": "3.9.13"
  }
 },
 "nbformat": 4,
 "nbformat_minor": 5
}
